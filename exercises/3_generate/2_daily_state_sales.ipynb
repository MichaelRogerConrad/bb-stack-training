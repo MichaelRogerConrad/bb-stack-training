{
 "cells": [
  {
   "cell_type": "markdown",
   "metadata": {},
   "source": [
    "# Generate the daily sales per state\n",
    "We will need to do the same thing as we did with the weather data, but in this case we will create the  **daily_sales_per_state** view.\n",
    "\n",
    "## Reading the data\n",
    "Let's get started by loading the master sales data. We can do this in a similar way as we did with the weather data."
   ]
  },
  {
   "cell_type": "code",
   "execution_count": null,
   "metadata": {
    "collapsed": false
   },
   "outputs": [],
   "source": [
    "sales_data = sc.textFile(\"/data/master/sales\")\n",
    "sales_data.take(1)"
   ]
  },
  {
   "cell_type": "markdown",
   "metadata": {},
   "source": [
    "So the sales data is structured a little bit different than the weather data. With the sales data, we already have all the data we need present and combined in a single record. However, it is not very clear which field contains what data, so we will convert the lines into dictionaries in order to add some clarity to our data.\n",
    "\n",
    "As we will be using a lambda expression for running through the data and we can not write code blocks in a lambda expression, we will create a function we will call for that."
   ]
  },
  {
   "cell_type": "code",
   "execution_count": null,
   "metadata": {
    "collapsed": true
   },
   "outputs": [],
   "source": [
    "from datetime import datetime\n",
    "\n",
    "def to_sales_record_map(line):\n",
    "    fields = line.split(\"\\t\")\n",
    "    res = {}\n",
    "    res['transaction'] = fields[0]\n",
    "    res['quantity'] = float(fields[1])\n",
    "    res['price'] = float(fields[2])\n",
    "    res['transaction_type'] = fields[3]\n",
    "    res['tender_type'] = fields[4]\n",
    "    res['date'] = datetime.strptime(fields[5], \"%Y-%m-%dT%H:%M:%S.%fZ\")\n",
    "    res['store_key'] = fields[6]\n",
    "    res['store_name'] = fields[7]\n",
    "    res['store_state'] = fields[8]\n",
    "    res['employee_key'] = fields[9]\n",
    "    res['employee_name'] = fields[10]\n",
    "    res['employee_gender'] = fields[11]\n",
    "    res['employee_state'] = fields[12]\n",
    "    res['employee_job_title'] = fields[13]\n",
    "    res['product_key'] = fields[14]\n",
    "    res['product_version'] = fields[15]\n",
    "    res['product_description'] = fields[16]\n",
    "    res['product_category'] = fields[17]\n",
    "    res['product_department'] = fields[18]\n",
    "    res['product_price'] = float(fields[19])\n",
    "    res['customer_key'] = fields[20]\n",
    "    res['customer_gender'] = fields[21]\n",
    "    res['customer_age'] = int(fields[22])\n",
    "    res['customer_marital_status'] = fields[23]\n",
    "    res['customer_name'] = fields[24]\n",
    "    res['customer_state'] = fields[25]\n",
    "    return res"
   ]
  },
  {
   "cell_type": "markdown",
   "metadata": {},
   "source": [
    "we can use the to_sales_record_map(line) function to convert a line of text into a dictionary that is much easier to  work with. You might wonder why we didn't do that for the weather data. Well, due to the structure of the weather data it didn't make sense to do it this way.\n",
    "\n",
    "You can see some strange constructs in the to_sales_record_map function. Things like *int(fields[22]*, *float(fields[19])* and *datetime.strptime(fields[5], \"%Y-%m-%dT%H:%M:%S.%fZ\")*.\n",
    "The first two are there to convert a text string into an integer or a float respectively. The latter is used to parse a text string representing a data into an actual datetime object we can work with and do calculations on.\n",
    "\n",
    "Let's run that map function to transform our lines into dictionaries:"
   ]
  },
  {
   "cell_type": "code",
   "execution_count": null,
   "metadata": {
    "collapsed": false
   },
   "outputs": [],
   "source": [
    "sales_records = \n",
    "sales_records.take(1)"
   ]
  },
  {
   "cell_type": "markdown",
   "metadata": {},
   "source": [
    "The last thing to do is to transform our record in a Key/Value pair and convert the datetime object inside the value to a representation that can be stores later on. The default storage formats have an issue with the complex datetime object and require some simpeler representation.\n",
    "\n",
    "For this we can use the **datetime.strftime(record, format)** function passing **%Y-%m-%dT%H:%M:%S.%fZ** as the format."
   ]
  },
  {
   "cell_type": "code",
   "execution_count": null,
   "metadata": {
    "collapsed": false
   },
   "outputs": [],
   "source": [
    "def min_two_digits(data):\n",
    "    return('00' + str(data))[-2:];\n",
    "\n",
    "def sales_key(record):\n",
    "    res = str(record['date'].year);\n",
    "    res += min_two_digits(record['date'].month);\n",
    "    res += min_two_digits(record['date'].day);\n",
    "    res += '-';\n",
    "    res += record['store_state'];\n",
    "    return res\n",
    "\n",
    "def formatDate(record):\n",
    "    record['date'] = datetime.strftime(record['date'], \"%Y-%m-%dT%H:%M:%S.%fZ\")\n",
    "    return record;"
   ]
  },
  {
   "cell_type": "code",
   "execution_count": null,
   "metadata": {
    "collapsed": true
   },
   "outputs": [],
   "source": [
    "sales = \n",
    "sales.take(1)"
   ]
  },
  {
   "cell_type": "markdown",
   "metadata": {},
   "source": [
    "## Storing the result\n",
    "Again a job well done! Let's just store that view in a sequence file as well so we can rely on it later on. The view is called **daily_sales_per_state** and it can be stored in the **/data/views** folder on HDFS"
   ]
  },
  {
   "cell_type": "code",
   "execution_count": null,
   "metadata": {
    "collapsed": true
   },
   "outputs": [],
   "source": []
  }
 ],
 "metadata": {
  "kernelspec": {
   "display_name": "pySpark (Spark 1.4.1)",
   "language": "python",
   "name": "pyspark"
  },
  "language_info": {
   "codemirror_mode": {
    "name": "ipython",
    "version": 2
   },
   "file_extension": ".py",
   "mimetype": "text/x-python",
   "name": "python",
   "nbconvert_exporter": "python",
   "pygments_lexer": "ipython2",
   "version": "2.7.6"
  }
 },
 "nbformat": 4,
 "nbformat_minor": 0
}
