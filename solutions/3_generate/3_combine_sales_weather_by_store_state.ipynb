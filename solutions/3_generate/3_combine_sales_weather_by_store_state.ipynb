{
 "cells": [
  {
   "cell_type": "markdown",
   "metadata": {},
   "source": [
    "# Combine sales and weather data\n",
    "Up until now, we have read the weather and retail data from the database and stored it on HDFS. After that we transformed the data we read so it made more sense and was easier to process in subsequent steps. We generated views to group the data by date and state so the logical next step would be to combine the two views we created into one large view."
   ]
  },
  {
   "cell_type": "markdown",
   "metadata": {},
   "source": [
    "## Loading the data\n",
    "We will need to load the two views we created earlier.\n",
    "\n",
    "### The weather view\n",
    "During our previous processing, we stored the weather view in HDFS. Now we need to read it back again from **/data/views/daily_weather_per_state**"
   ]
  },
  {
   "cell_type": "code",
   "execution_count": 1,
   "metadata": {
    "collapsed": false
   },
   "outputs": [
    {
     "data": {
      "text/plain": [
       "[(u'20060223-AZ',\n",
       "  {u'PRCP': 0.010526315789473684,\n",
       "   u'TAVG': 21.19047619047619,\n",
       "   u'TMAX': 131.49579831932772,\n",
       "   u'TMIN': -37.9915611814346,\n",
       "   u'date': u'2006-02-23'})]"
      ]
     },
     "execution_count": 1,
     "metadata": {},
     "output_type": "execute_result"
    }
   ],
   "source": [
    "weather = sc.sequenceFile(\"/data/views/daily_weather_per_state\")\n",
    "weather.take(1)"
   ]
  },
  {
   "cell_type": "markdown",
   "metadata": {},
   "source": [
    "### The sales view\n",
    "The same goes for the sales view. That one is located at **/data/views/daily_sales_per_state**"
   ]
  },
  {
   "cell_type": "code",
   "execution_count": 2,
   "metadata": {
    "collapsed": false
   },
   "outputs": [
    {
     "data": {
      "text/plain": [
       "[(u'20060525-CT',\n",
       "  {u'customer_age': 33,\n",
       "   u'customer_gender': u'Male',\n",
       "   u'customer_key': u'1',\n",
       "   u'customer_marital_status': u'Divorced',\n",
       "   u'customer_name': u'Kevin J. Dobisz',\n",
       "   u'customer_state': u'CO',\n",
       "   u'date': u'2006-05-25T00:00:00.000000Z',\n",
       "   u'employee_gender': u'Female',\n",
       "   u'employee_job_title': u'Cashier',\n",
       "   u'employee_key': u'7679',\n",
       "   u'employee_name': u'Samantha Reyes',\n",
       "   u'employee_state': u'CA',\n",
       "   u'price': 199.0,\n",
       "   u'product_category': u'Food',\n",
       "   u'product_department': u'Dairy',\n",
       "   u'product_description': u'Brand #56310 butter',\n",
       "   u'product_key': u'18730',\n",
       "   u'product_price': 384.0,\n",
       "   u'product_version': u'1',\n",
       "   u'quantity': 10.0,\n",
       "   u'store_key': u'108',\n",
       "   u'store_name': u'Store108',\n",
       "   u'store_state': u'CT',\n",
       "   u'tender_type': u'Credit',\n",
       "   u'transaction': u'3368440',\n",
       "   u'transaction_type': u'purchase'})]"
      ]
     },
     "execution_count": 2,
     "metadata": {},
     "output_type": "execute_result"
    }
   ],
   "source": [
    "sales = sc.sequenceFile(\"/data/views/daily_sales_per_state\")\n",
    "sales.take(1)"
   ]
  },
  {
   "cell_type": "markdown",
   "metadata": {
    "collapsed": false
   },
   "source": [
    "## Joining sales and weather into one\n",
    "The time has come to join our two views together."
   ]
  },
  {
   "cell_type": "code",
   "execution_count": 3,
   "metadata": {
    "collapsed": false
   },
   "outputs": [
    {
     "data": {
      "text/plain": [
       "[(u'20060718-CO',\n",
       "  ({u'customer_age': 40,\n",
       "    u'customer_gender': u'Male',\n",
       "    u'customer_key': u'793',\n",
       "    u'customer_marital_status': u'Unknown',\n",
       "    u'customer_name': u'Jose B. Fortin',\n",
       "    u'customer_state': u'CA',\n",
       "    u'date': u'2006-07-18T00:00:00.000000Z',\n",
       "    u'employee_gender': u'Male',\n",
       "    u'employee_job_title': u'Head of Marketing',\n",
       "    u'employee_key': u'309',\n",
       "    u'employee_name': u'Alexander Sanchez',\n",
       "    u'employee_state': u'TX',\n",
       "    u'price': 419.0,\n",
       "    u'product_category': u'Food',\n",
       "    u'product_department': u'Meat',\n",
       "    u'product_description': u'Brand #39192 pork',\n",
       "    u'product_key': u'13069',\n",
       "    u'product_price': 116.0,\n",
       "    u'product_version': u'1',\n",
       "    u'quantity': 8.0,\n",
       "    u'store_key': u'96',\n",
       "    u'store_name': u'Store96',\n",
       "    u'store_state': u'CO',\n",
       "    u'tender_type': u'Debit',\n",
       "    u'transaction': u'3534503',\n",
       "    u'transaction_type': u'purchase'},\n",
       "   {u'PRCP': 1.0159045725646123,\n",
       "    u'TAVG': 152.45569620253164,\n",
       "    u'TMAX': 266.3030303030303,\n",
       "    u'TMIN': 73.85277777777777,\n",
       "    u'date': u'2006-07-18'})),\n",
       " (u'20060718-CO',\n",
       "  ({u'customer_age': 40,\n",
       "    u'customer_gender': u'Male',\n",
       "    u'customer_key': u'793',\n",
       "    u'customer_marital_status': u'Unknown',\n",
       "    u'customer_name': u'Jose B. Fortin',\n",
       "    u'customer_state': u'CA',\n",
       "    u'date': u'2006-07-18T00:00:00.000000Z',\n",
       "    u'employee_gender': u'Male',\n",
       "    u'employee_job_title': u'Head of Marketing',\n",
       "    u'employee_key': u'309',\n",
       "    u'employee_name': u'Alexander Sanchez',\n",
       "    u'employee_state': u'TX',\n",
       "    u'price': 353.0,\n",
       "    u'product_category': u'Misc',\n",
       "    u'product_department': u'Photography',\n",
       "    u'product_description': u'Brand #20781 camera strap',\n",
       "    u'product_key': u'6918',\n",
       "    u'product_price': 422.0,\n",
       "    u'product_version': u'1',\n",
       "    u'quantity': 1.0,\n",
       "    u'store_key': u'96',\n",
       "    u'store_name': u'Store96',\n",
       "    u'store_state': u'CO',\n",
       "    u'tender_type': u'Debit',\n",
       "    u'transaction': u'3534502',\n",
       "    u'transaction_type': u'purchase'},\n",
       "   {u'PRCP': 1.0159045725646123,\n",
       "    u'TAVG': 152.45569620253164,\n",
       "    u'TMAX': 266.3030303030303,\n",
       "    u'TMIN': 73.85277777777777,\n",
       "    u'date': u'2006-07-18'}))]"
      ]
     },
     "execution_count": 3,
     "metadata": {},
     "output_type": "execute_result"
    }
   ],
   "source": [
    "joined = sales.join(weather)\n",
    "joined.take(2)"
   ]
  },
  {
   "cell_type": "markdown",
   "metadata": {},
   "source": [
    "## Storing the joined result\n",
    "We are going to save the results as a CSV file. This means we will have to restructure the records into lines which we can then store into a text file."
   ]
  },
  {
   "cell_type": "code",
   "execution_count": 4,
   "metadata": {
    "collapsed": false
   },
   "outputs": [
    {
     "data": {
      "text/plain": [
       "[u'20061129-OR,69,Male,7229,Engaged,Ben E. Lang,FL,2006-11-29T00:00:00.000000Z,Male,Shelf Stocker,5056,Daniel Farmer,TN,206.0,Non-food,Cleaning supplies,Brand #56327 rubber gloves,18736,396.0,1,9.0,39,Store39,OR,Credit,3894424,purchase,6.24285714286,42.3631840796,130.357142857,-15.7335164835']"
      ]
     },
     "execution_count": 4,
     "metadata": {},
     "output_type": "execute_result"
    }
   ],
   "source": [
    "def to_line(v):\n",
    "    rec = [];\n",
    "    rec.append(v[0])\n",
    "    \n",
    "    sales_data = v[1][0];\n",
    "    for key in sorted(sales_data):\n",
    "        rec.append(str(sales_data[key]));\n",
    "    \n",
    "    weather_data = v[1][1];\n",
    "    for key in sorted(weather_data):\n",
    "        if key != 'date':\n",
    "            rec.append(str(weather_data[key]));\n",
    "         \n",
    "    return ','.join(rec);\n",
    "    \n",
    "formatted = joined.map(lambda v: to_line(v))\n",
    "formatted.take(1)"
   ]
  },
  {
   "cell_type": "code",
   "execution_count": 5,
   "metadata": {
    "collapsed": false
   },
   "outputs": [],
   "source": [
    "formatted.saveAsTextFile('/data/views/daily_weather_sales_per_state')"
   ]
  }
 ],
 "metadata": {
  "kernelspec": {
   "display_name": "pySpark (Spark 1.4.1)",
   "language": "python",
   "name": "pyspark"
  },
  "language_info": {
   "codemirror_mode": {
    "name": "ipython",
    "version": 2
   },
   "file_extension": ".py",
   "mimetype": "text/x-python",
   "name": "python",
   "nbconvert_exporter": "python",
   "pygments_lexer": "ipython2",
   "version": "2.7.6"
  }
 },
 "nbformat": 4,
 "nbformat_minor": 0
}
